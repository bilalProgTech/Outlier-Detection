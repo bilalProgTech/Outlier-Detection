{
 "cells": [
  {
   "cell_type": "code",
   "execution_count": 1,
   "metadata": {},
   "outputs": [],
   "source": [
    "from outlier_detection import detect_outliers_using_iqr\r\n",
    "import pandas as pd"
   ]
  },
  {
   "cell_type": "code",
   "execution_count": 2,
   "metadata": {},
   "outputs": [],
   "source": [
    "data = pd.read_csv('titanic.csv')"
   ]
  },
  {
   "cell_type": "code",
   "execution_count": 3,
   "metadata": {},
   "outputs": [
    {
     "name": "stdout",
     "output_type": "stream",
     "text": [
      "\n",
      "Factor: male\n",
      "Lower Bound Threshold: -20.085499999999996\n",
      "Upper Bound Threshold: 54.5313\n",
      "No. of Observation beyond lower bound: 0\n",
      "No. of Observation beyond upper bound: 61\n",
      "No. of Observation between upper and lower bound: 516\n",
      "Ratio of Outliers for target variable male: 11.0%\n",
      "\n",
      "Factor: female\n",
      "Lower Bound Threshold: -52.32031250000001\n",
      "Upper Bound Threshold: 119.3921875\n",
      "No. of Observation beyond lower bound: 0\n",
      "No. of Observation beyond upper bound: 28\n",
      "No. of Observation between upper and lower bound: 286\n",
      "Ratio of Outliers for target variable female: 9.0%\n"
     ]
    },
    {
     "data": {
      "image/png": "[encoded data removed]",
      "text/plain": [
       "<Figure size 720x360 with 1 Axes>"
      ]
     },
     "metadata": {
      "needs_background": "light"
     },
     "output_type": "display_data"
    }
   ],
   "source": [
    "detect_outliers_using_iqr(data, 'Fare', is_factor=True, factor='Sex')"
   ]
  }
 ],
 "metadata": {
  "interpreter": {
   "hash": "c6aa74551c52d04a856468b67dac20f0e634d464436994276d5a21dee2cb3a36"
  },
  "kernelspec": {
   "display_name": "Python 3.8.5 64-bit ('base': conda)",
   "name": "python3"
  },
  "language_info": {
   "codemirror_mode": {
    "name": "ipython",
    "version": 3
   },
   "file_extension": ".py",
   "mimetype": "text/x-python",
   "name": "python",
   "nbconvert_exporter": "python",
   "pygments_lexer": "ipython3",
   "version": "3.7.9"
  },
  "orig_nbformat": 4
 },
 "nbformat": 4,
 "nbformat_minor": 2
}